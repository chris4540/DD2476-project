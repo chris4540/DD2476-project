{
 "cells": [
  {
   "cell_type": "code",
   "execution_count": 3,
   "metadata": {},
   "outputs": [],
   "source": [
    "import pandas as pd"
   ]
  },
  {
   "cell_type": "code",
   "execution_count": 15,
   "metadata": {},
   "outputs": [],
   "source": [
    "annotate = pd.read_csv(\"userD-annotate.csv\", header=None, index_col=None)\n",
    "annotate.columns = [\"rel\", \"score\", \"name\"]\n",
    "annotate = annotate.drop(\"score\", axis=1)\n",
    "annotate = annotate.set_index(\"name\")"
   ]
  },
  {
   "cell_type": "code",
   "execution_count": 19,
   "metadata": {},
   "outputs": [],
   "source": [
    "rel_dict = annotate[\"rel\"].to_dict()"
   ]
  },
  {
   "cell_type": "code",
   "execution_count": 44,
   "metadata": {},
   "outputs": [],
   "source": [
    "rel_dict['Jesper Eneroth'] = 0 #en svensk socialdemokratisk politiker\n",
    "rel_dict['Filip Eriksson'] = 0 # en svensk fotbollsmålvakt som spelar för IFK Värnamo.\n",
    "rel_dict['Filip Dagerstål'] = 0 # en svensk fotbollsspelare\n",
    "rel_dict['Filip Rogic'] = 0 # fotbollsspelare\n",
    "rel_dict['Tora Rydelius'] = 0\n",
    "rel_dict['Filip Korkes'] = 0 # fotbollsspelare\n",
    "rel_dict['Filip Benković'] = 0 # fotbollsspelare\n",
    "rel_dict['Filip Benko'] = 0 # en svensk skådespelare\n",
    "rel_dict['Filipa Azevedo'] = 0 # Hon är en portugisisk sångerska.\n",
    "rel_dict['Kristallen 2012'] = 2.0 # Programledare var Filip Hammar och Fredrik Wikingsson\n",
    "rel_dict['Fredrik af Trampe'] = 0 # Hon är en svensk journalist, musiker, författare och skådespelare.\n",
    "rel_dict['Filip Forsberg'] = 0 # Han är en svensk professionell ishockeyspelare\n",
    "rel_dict['Filip Kostić'] = 0 # en serbisk fotbollsspelare\n",
    "rel_dict['Filip Stiller'] = 0 # en svensk journalist och före detta konståkare som har tävlat i herrarnas singel\n",
    "rel_dict['Niclas Crammer'] = 0 # en regissör\n",
    "rel_dict['Kristoffer Triumf'] = 1.0 # Han har bland annat arbetat som redaktör för Filip och Fredriks program Breaking News.\n",
    "rel_dict[\"Kristallen_2009\"] = 0.0 # no direct relation\n",
    "rel_dict[\"Kristallen_2009\"] = 0.0 # no direct relation\n",
    "rel_dict['Claes Åkeson'] = 1.0 # Åkeson ledde under hösten 2011 den fjärde säsongen av Vem kan slå Filip och Fredrik i Kanal 5\n",
    "rel_dict['Jan Myrehed'] = 0.0 \n",
    "rel_dict['Fredrik Huldt'] = 0.0\n",
    "rel_dict['Henrik Bastin'] = 0.0 \n",
    "rel_dict['Karin Winther (programledare)'] = 1.0 # arbetar ... bland annat för Filip och Fredriks produktionsbolag ...\n",
    "rel_dict['Filip Alexanderson'] = 0.0 # är en svensk skådespelare och författare."
   ]
  },
  {
   "cell_type": "code",
   "execution_count": 46,
   "metadata": {},
   "outputs": [],
   "source": [
    "for i in [0, 1, 2, 5, 10]:\n",
    "    f = \"userD-{}click.csv\".format(i)\n",
    "    df = pd.read_csv(f, header=None)\n",
    "    df.columns = ['name']\n",
    "    df[\"rel\"] = df[\"name\"].map(rel_dict, na_action='ignore')\n",
    "    df.to_csv(f, header=False)"
   ]
  },
  {
   "cell_type": "code",
   "execution_count": 48,
   "metadata": {},
   "outputs": [],
   "source": [
    "\n",
    "import json\n",
    "import io\n",
    "with io.open(\"rel_dict.json\", \"w\", encoding='utf8') as f:\n",
    "    json.dump(rel_dict, f, indent=2, ensure_ascii=False)"
   ]
  },
  {
   "cell_type": "code",
   "execution_count": null,
   "metadata": {},
   "outputs": [],
   "source": []
  }
 ],
 "metadata": {
  "kernelspec": {
   "display_name": "Python 3",
   "language": "python",
   "name": "python3"
  },
  "language_info": {
   "codemirror_mode": {
    "name": "ipython",
    "version": 3
   },
   "file_extension": ".py",
   "mimetype": "text/x-python",
   "name": "python",
   "nbconvert_exporter": "python",
   "pygments_lexer": "ipython3",
   "version": "3.7.3"
  }
 },
 "nbformat": 4,
 "nbformat_minor": 2
}
